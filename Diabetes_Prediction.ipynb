{
  "nbformat": 4,
  "nbformat_minor": 0,
  "metadata": {
    "colab": {
      "provenance": [],
      "collapsed_sections": [],
      "toc_visible": true
    },
    "kernelspec": {
      "name": "python3",
      "display_name": "Python 3"
    },
    "language_info": {
      "name": "python"
    }
  },
  "cells": [
    {
      "cell_type": "code",
      "execution_count": 50,
      "metadata": {
        "id": "AQNqYd5Ay72u"
      },
      "outputs": [],
      "source": [
        "#Import required libraries.\n",
        "#Read the csv file dataset.\n",
        "\n",
        "import pandas as pd\n",
        "import numpy as np\n",
        "import matplotlib.pyplot as plt\n",
        "import seaborn as sns\n",
        "\n",
        "data = pd.read_csv('/content/diabetes_data.csv')"
      ]
    },
    {
      "cell_type": "code",
      "source": [
        "#Show first 10 entries of the dataset.\n",
        "data.head()"
      ],
      "metadata": {
        "id": "9EvdTf_l3cKN",
        "colab": {
          "base_uri": "https://localhost:8080/",
          "height": 250
        },
        "outputId": "ff019db0-2b26-4c8a-c26a-2a2ba5181994"
      },
      "execution_count": 51,
      "outputs": [
        {
          "output_type": "execute_result",
          "data": {
            "text/plain": [
              "   Pregnancies  Glucose  BloodPressure  SkinThickness  Insulin   BMI  \\\n",
              "0            0       84             82             31      125  38.2   \n",
              "1            0      145              0              0        0  44.2   \n",
              "2            1      139             62             41      480  40.7   \n",
              "3            4      125             70             18      122  28.9   \n",
              "4            2       84             50             23       76  30.4   \n",
              "\n",
              "   DiabetesPedigreeFunction  Age  Outcome  Id     split  \n",
              "0                     0.233   23        0   1  2.279165  \n",
              "1                     0.630   31        1   2  0.751868  \n",
              "2                     0.536   21        0   4  0.928773  \n",
              "3                     1.144   45        1  11  0.134273  \n",
              "4                     0.968   21        0  26  1.587001  "
            ],
            "text/html": [
              "\n",
              "  <div id=\"df-a43e2500-613b-4d4a-9e92-c606fcdbbfeb\">\n",
              "    <div class=\"colab-df-container\">\n",
              "      <div>\n",
              "<style scoped>\n",
              "    .dataframe tbody tr th:only-of-type {\n",
              "        vertical-align: middle;\n",
              "    }\n",
              "\n",
              "    .dataframe tbody tr th {\n",
              "        vertical-align: top;\n",
              "    }\n",
              "\n",
              "    .dataframe thead th {\n",
              "        text-align: right;\n",
              "    }\n",
              "</style>\n",
              "<table border=\"1\" class=\"dataframe\">\n",
              "  <thead>\n",
              "    <tr style=\"text-align: right;\">\n",
              "      <th></th>\n",
              "      <th>Pregnancies</th>\n",
              "      <th>Glucose</th>\n",
              "      <th>BloodPressure</th>\n",
              "      <th>SkinThickness</th>\n",
              "      <th>Insulin</th>\n",
              "      <th>BMI</th>\n",
              "      <th>DiabetesPedigreeFunction</th>\n",
              "      <th>Age</th>\n",
              "      <th>Outcome</th>\n",
              "      <th>Id</th>\n",
              "      <th>split</th>\n",
              "    </tr>\n",
              "  </thead>\n",
              "  <tbody>\n",
              "    <tr>\n",
              "      <th>0</th>\n",
              "      <td>0</td>\n",
              "      <td>84</td>\n",
              "      <td>82</td>\n",
              "      <td>31</td>\n",
              "      <td>125</td>\n",
              "      <td>38.2</td>\n",
              "      <td>0.233</td>\n",
              "      <td>23</td>\n",
              "      <td>0</td>\n",
              "      <td>1</td>\n",
              "      <td>2.279165</td>\n",
              "    </tr>\n",
              "    <tr>\n",
              "      <th>1</th>\n",
              "      <td>0</td>\n",
              "      <td>145</td>\n",
              "      <td>0</td>\n",
              "      <td>0</td>\n",
              "      <td>0</td>\n",
              "      <td>44.2</td>\n",
              "      <td>0.630</td>\n",
              "      <td>31</td>\n",
              "      <td>1</td>\n",
              "      <td>2</td>\n",
              "      <td>0.751868</td>\n",
              "    </tr>\n",
              "    <tr>\n",
              "      <th>2</th>\n",
              "      <td>1</td>\n",
              "      <td>139</td>\n",
              "      <td>62</td>\n",
              "      <td>41</td>\n",
              "      <td>480</td>\n",
              "      <td>40.7</td>\n",
              "      <td>0.536</td>\n",
              "      <td>21</td>\n",
              "      <td>0</td>\n",
              "      <td>4</td>\n",
              "      <td>0.928773</td>\n",
              "    </tr>\n",
              "    <tr>\n",
              "      <th>3</th>\n",
              "      <td>4</td>\n",
              "      <td>125</td>\n",
              "      <td>70</td>\n",
              "      <td>18</td>\n",
              "      <td>122</td>\n",
              "      <td>28.9</td>\n",
              "      <td>1.144</td>\n",
              "      <td>45</td>\n",
              "      <td>1</td>\n",
              "      <td>11</td>\n",
              "      <td>0.134273</td>\n",
              "    </tr>\n",
              "    <tr>\n",
              "      <th>4</th>\n",
              "      <td>2</td>\n",
              "      <td>84</td>\n",
              "      <td>50</td>\n",
              "      <td>23</td>\n",
              "      <td>76</td>\n",
              "      <td>30.4</td>\n",
              "      <td>0.968</td>\n",
              "      <td>21</td>\n",
              "      <td>0</td>\n",
              "      <td>26</td>\n",
              "      <td>1.587001</td>\n",
              "    </tr>\n",
              "  </tbody>\n",
              "</table>\n",
              "</div>\n",
              "      <button class=\"colab-df-convert\" onclick=\"convertToInteractive('df-a43e2500-613b-4d4a-9e92-c606fcdbbfeb')\"\n",
              "              title=\"Convert this dataframe to an interactive table.\"\n",
              "              style=\"display:none;\">\n",
              "        \n",
              "  <svg xmlns=\"http://www.w3.org/2000/svg\" height=\"24px\"viewBox=\"0 0 24 24\"\n",
              "       width=\"24px\">\n",
              "    <path d=\"M0 0h24v24H0V0z\" fill=\"none\"/>\n",
              "    <path d=\"M18.56 5.44l.94 2.06.94-2.06 2.06-.94-2.06-.94-.94-2.06-.94 2.06-2.06.94zm-11 1L8.5 8.5l.94-2.06 2.06-.94-2.06-.94L8.5 2.5l-.94 2.06-2.06.94zm10 10l.94 2.06.94-2.06 2.06-.94-2.06-.94-.94-2.06-.94 2.06-2.06.94z\"/><path d=\"M17.41 7.96l-1.37-1.37c-.4-.4-.92-.59-1.43-.59-.52 0-1.04.2-1.43.59L10.3 9.45l-7.72 7.72c-.78.78-.78 2.05 0 2.83L4 21.41c.39.39.9.59 1.41.59.51 0 1.02-.2 1.41-.59l7.78-7.78 2.81-2.81c.8-.78.8-2.07 0-2.86zM5.41 20L4 18.59l7.72-7.72 1.47 1.35L5.41 20z\"/>\n",
              "  </svg>\n",
              "      </button>\n",
              "      \n",
              "  <style>\n",
              "    .colab-df-container {\n",
              "      display:flex;\n",
              "      flex-wrap:wrap;\n",
              "      gap: 12px;\n",
              "    }\n",
              "\n",
              "    .colab-df-convert {\n",
              "      background-color: #E8F0FE;\n",
              "      border: none;\n",
              "      border-radius: 50%;\n",
              "      cursor: pointer;\n",
              "      display: none;\n",
              "      fill: #1967D2;\n",
              "      height: 32px;\n",
              "      padding: 0 0 0 0;\n",
              "      width: 32px;\n",
              "    }\n",
              "\n",
              "    .colab-df-convert:hover {\n",
              "      background-color: #E2EBFA;\n",
              "      box-shadow: 0px 1px 2px rgba(60, 64, 67, 0.3), 0px 1px 3px 1px rgba(60, 64, 67, 0.15);\n",
              "      fill: #174EA6;\n",
              "    }\n",
              "\n",
              "    [theme=dark] .colab-df-convert {\n",
              "      background-color: #3B4455;\n",
              "      fill: #D2E3FC;\n",
              "    }\n",
              "\n",
              "    [theme=dark] .colab-df-convert:hover {\n",
              "      background-color: #434B5C;\n",
              "      box-shadow: 0px 1px 3px 1px rgba(0, 0, 0, 0.15);\n",
              "      filter: drop-shadow(0px 1px 2px rgba(0, 0, 0, 0.3));\n",
              "      fill: #FFFFFF;\n",
              "    }\n",
              "  </style>\n",
              "\n",
              "      <script>\n",
              "        const buttonEl =\n",
              "          document.querySelector('#df-a43e2500-613b-4d4a-9e92-c606fcdbbfeb button.colab-df-convert');\n",
              "        buttonEl.style.display =\n",
              "          google.colab.kernel.accessAllowed ? 'block' : 'none';\n",
              "\n",
              "        async function convertToInteractive(key) {\n",
              "          const element = document.querySelector('#df-a43e2500-613b-4d4a-9e92-c606fcdbbfeb');\n",
              "          const dataTable =\n",
              "            await google.colab.kernel.invokeFunction('convertToInteractive',\n",
              "                                                     [key], {});\n",
              "          if (!dataTable) return;\n",
              "\n",
              "          const docLinkHtml = 'Like what you see? Visit the ' +\n",
              "            '<a target=\"_blank\" href=https://colab.research.google.com/notebooks/data_table.ipynb>data table notebook</a>'\n",
              "            + ' to learn more about interactive tables.';\n",
              "          element.innerHTML = '';\n",
              "          dataTable['output_type'] = 'display_data';\n",
              "          await google.colab.output.renderOutput(dataTable, element);\n",
              "          const docLink = document.createElement('div');\n",
              "          docLink.innerHTML = docLinkHtml;\n",
              "          element.appendChild(docLink);\n",
              "        }\n",
              "      </script>\n",
              "    </div>\n",
              "  </div>\n",
              "  "
            ]
          },
          "metadata": {},
          "execution_count": 51
        }
      ]
    },
    {
      "cell_type": "code",
      "source": [
        "test_data = (8,183,64,0,0,23.3,.672,32)\n",
        "test_data_np = np.asarray(test_data)"
      ],
      "metadata": {
        "id": "1aOeB5Lx3tag"
      },
      "execution_count": 52,
      "outputs": []
    },
    {
      "cell_type": "code",
      "source": [
        "#Display data for index 0 row.\n",
        "\n",
        "data.iloc[0]"
      ],
      "metadata": {
        "id": "5HbbBtsT36Pt",
        "colab": {
          "base_uri": "https://localhost:8080/"
        },
        "outputId": "a41505ee-7903-4fe9-da45-a797c25a40ef"
      },
      "execution_count": 53,
      "outputs": [
        {
          "output_type": "execute_result",
          "data": {
            "text/plain": [
              "Pregnancies                   0.000000\n",
              "Glucose                      84.000000\n",
              "BloodPressure                82.000000\n",
              "SkinThickness                31.000000\n",
              "Insulin                     125.000000\n",
              "BMI                          38.200000\n",
              "DiabetesPedigreeFunction      0.233000\n",
              "Age                          23.000000\n",
              "Outcome                       0.000000\n",
              "Id                            1.000000\n",
              "split                         2.279165\n",
              "Name: 0, dtype: float64"
            ]
          },
          "metadata": {},
          "execution_count": 53
        }
      ]
    },
    {
      "cell_type": "code",
      "source": [
        "#See information like total entries, datatype of dataset.\n",
        "\n",
        "data.info()"
      ],
      "metadata": {
        "id": "u6rCGwM04FGm",
        "colab": {
          "base_uri": "https://localhost:8080/"
        },
        "outputId": "f7fff75b-4c76-4b3e-d47c-259ff165d9bc"
      },
      "execution_count": 54,
      "outputs": [
        {
          "output_type": "stream",
          "name": "stdout",
          "text": [
            "<class 'pandas.core.frame.DataFrame'>\n",
            "RangeIndex: 595 entries, 0 to 594\n",
            "Data columns (total 11 columns):\n",
            " #   Column                    Non-Null Count  Dtype  \n",
            "---  ------                    --------------  -----  \n",
            " 0   Pregnancies               595 non-null    int64  \n",
            " 1   Glucose                   595 non-null    int64  \n",
            " 2   BloodPressure             595 non-null    int64  \n",
            " 3   SkinThickness             595 non-null    int64  \n",
            " 4   Insulin                   595 non-null    int64  \n",
            " 5   BMI                       595 non-null    float64\n",
            " 6   DiabetesPedigreeFunction  595 non-null    float64\n",
            " 7   Age                       595 non-null    int64  \n",
            " 8   Outcome                   595 non-null    int64  \n",
            " 9   Id                        595 non-null    int64  \n",
            " 10  split                     595 non-null    float64\n",
            "dtypes: float64(3), int64(8)\n",
            "memory usage: 51.3 KB\n"
          ]
        }
      ]
    },
    {
      "cell_type": "code",
      "source": [
        "#Get descriptive statistics.\n",
        "\n",
        "data.describe()"
      ],
      "metadata": {
        "id": "6lguJQv74R_i",
        "colab": {
          "base_uri": "https://localhost:8080/",
          "height": 364
        },
        "outputId": "19c1c35e-4c68-4cf5-8bda-7e7e895cb801"
      },
      "execution_count": 55,
      "outputs": [
        {
          "output_type": "execute_result",
          "data": {
            "text/plain": [
              "       Pregnancies     Glucose  BloodPressure  SkinThickness     Insulin  \\\n",
              "count   595.000000  595.000000     595.000000     595.000000  595.000000   \n",
              "mean      3.788235  121.174790      68.105882      21.428571   81.021849   \n",
              "std       3.352801   30.304788      20.385606      16.315581  107.744309   \n",
              "min       0.000000    0.000000       0.000000       0.000000    0.000000   \n",
              "25%       1.000000   99.000000      62.000000       0.000000    0.000000   \n",
              "50%       3.000000  118.000000      72.000000      24.000000   50.000000   \n",
              "75%       6.000000  141.000000      80.000000      32.000000  128.500000   \n",
              "max      17.000000  197.000000     114.000000     110.000000  680.000000   \n",
              "\n",
              "              BMI  DiabetesPedigreeFunction         Age     Outcome  \\\n",
              "count  595.000000                595.000000  595.000000  595.000000   \n",
              "mean    32.217311                  0.454869   32.594958    0.331092   \n",
              "std      8.907400                  0.285681   11.319316    0.471002   \n",
              "min      0.000000                  0.085000   21.000000    0.000000   \n",
              "25%     27.100000                  0.240000   24.000000    0.000000   \n",
              "50%     32.100000                  0.375000   28.000000    0.000000   \n",
              "75%     37.200000                  0.606000   39.000000    1.000000   \n",
              "max     67.100000                  1.731000   69.000000    1.000000   \n",
              "\n",
              "                Id       split  \n",
              "count   595.000000  595.000000  \n",
              "mean   1003.719328    0.032814  \n",
              "std     580.881369    0.990622  \n",
              "min       1.000000   -2.882502  \n",
              "25%     504.500000   -0.644610  \n",
              "50%     997.000000    0.066890  \n",
              "75%    1498.500000    0.717113  \n",
              "max    1998.000000    2.923840  "
            ],
            "text/html": [
              "\n",
              "  <div id=\"df-9fb969a8-4690-4bd8-8879-3168665ddf45\">\n",
              "    <div class=\"colab-df-container\">\n",
              "      <div>\n",
              "<style scoped>\n",
              "    .dataframe tbody tr th:only-of-type {\n",
              "        vertical-align: middle;\n",
              "    }\n",
              "\n",
              "    .dataframe tbody tr th {\n",
              "        vertical-align: top;\n",
              "    }\n",
              "\n",
              "    .dataframe thead th {\n",
              "        text-align: right;\n",
              "    }\n",
              "</style>\n",
              "<table border=\"1\" class=\"dataframe\">\n",
              "  <thead>\n",
              "    <tr style=\"text-align: right;\">\n",
              "      <th></th>\n",
              "      <th>Pregnancies</th>\n",
              "      <th>Glucose</th>\n",
              "      <th>BloodPressure</th>\n",
              "      <th>SkinThickness</th>\n",
              "      <th>Insulin</th>\n",
              "      <th>BMI</th>\n",
              "      <th>DiabetesPedigreeFunction</th>\n",
              "      <th>Age</th>\n",
              "      <th>Outcome</th>\n",
              "      <th>Id</th>\n",
              "      <th>split</th>\n",
              "    </tr>\n",
              "  </thead>\n",
              "  <tbody>\n",
              "    <tr>\n",
              "      <th>count</th>\n",
              "      <td>595.000000</td>\n",
              "      <td>595.000000</td>\n",
              "      <td>595.000000</td>\n",
              "      <td>595.000000</td>\n",
              "      <td>595.000000</td>\n",
              "      <td>595.000000</td>\n",
              "      <td>595.000000</td>\n",
              "      <td>595.000000</td>\n",
              "      <td>595.000000</td>\n",
              "      <td>595.000000</td>\n",
              "      <td>595.000000</td>\n",
              "    </tr>\n",
              "    <tr>\n",
              "      <th>mean</th>\n",
              "      <td>3.788235</td>\n",
              "      <td>121.174790</td>\n",
              "      <td>68.105882</td>\n",
              "      <td>21.428571</td>\n",
              "      <td>81.021849</td>\n",
              "      <td>32.217311</td>\n",
              "      <td>0.454869</td>\n",
              "      <td>32.594958</td>\n",
              "      <td>0.331092</td>\n",
              "      <td>1003.719328</td>\n",
              "      <td>0.032814</td>\n",
              "    </tr>\n",
              "    <tr>\n",
              "      <th>std</th>\n",
              "      <td>3.352801</td>\n",
              "      <td>30.304788</td>\n",
              "      <td>20.385606</td>\n",
              "      <td>16.315581</td>\n",
              "      <td>107.744309</td>\n",
              "      <td>8.907400</td>\n",
              "      <td>0.285681</td>\n",
              "      <td>11.319316</td>\n",
              "      <td>0.471002</td>\n",
              "      <td>580.881369</td>\n",
              "      <td>0.990622</td>\n",
              "    </tr>\n",
              "    <tr>\n",
              "      <th>min</th>\n",
              "      <td>0.000000</td>\n",
              "      <td>0.000000</td>\n",
              "      <td>0.000000</td>\n",
              "      <td>0.000000</td>\n",
              "      <td>0.000000</td>\n",
              "      <td>0.000000</td>\n",
              "      <td>0.085000</td>\n",
              "      <td>21.000000</td>\n",
              "      <td>0.000000</td>\n",
              "      <td>1.000000</td>\n",
              "      <td>-2.882502</td>\n",
              "    </tr>\n",
              "    <tr>\n",
              "      <th>25%</th>\n",
              "      <td>1.000000</td>\n",
              "      <td>99.000000</td>\n",
              "      <td>62.000000</td>\n",
              "      <td>0.000000</td>\n",
              "      <td>0.000000</td>\n",
              "      <td>27.100000</td>\n",
              "      <td>0.240000</td>\n",
              "      <td>24.000000</td>\n",
              "      <td>0.000000</td>\n",
              "      <td>504.500000</td>\n",
              "      <td>-0.644610</td>\n",
              "    </tr>\n",
              "    <tr>\n",
              "      <th>50%</th>\n",
              "      <td>3.000000</td>\n",
              "      <td>118.000000</td>\n",
              "      <td>72.000000</td>\n",
              "      <td>24.000000</td>\n",
              "      <td>50.000000</td>\n",
              "      <td>32.100000</td>\n",
              "      <td>0.375000</td>\n",
              "      <td>28.000000</td>\n",
              "      <td>0.000000</td>\n",
              "      <td>997.000000</td>\n",
              "      <td>0.066890</td>\n",
              "    </tr>\n",
              "    <tr>\n",
              "      <th>75%</th>\n",
              "      <td>6.000000</td>\n",
              "      <td>141.000000</td>\n",
              "      <td>80.000000</td>\n",
              "      <td>32.000000</td>\n",
              "      <td>128.500000</td>\n",
              "      <td>37.200000</td>\n",
              "      <td>0.606000</td>\n",
              "      <td>39.000000</td>\n",
              "      <td>1.000000</td>\n",
              "      <td>1498.500000</td>\n",
              "      <td>0.717113</td>\n",
              "    </tr>\n",
              "    <tr>\n",
              "      <th>max</th>\n",
              "      <td>17.000000</td>\n",
              "      <td>197.000000</td>\n",
              "      <td>114.000000</td>\n",
              "      <td>110.000000</td>\n",
              "      <td>680.000000</td>\n",
              "      <td>67.100000</td>\n",
              "      <td>1.731000</td>\n",
              "      <td>69.000000</td>\n",
              "      <td>1.000000</td>\n",
              "      <td>1998.000000</td>\n",
              "      <td>2.923840</td>\n",
              "    </tr>\n",
              "  </tbody>\n",
              "</table>\n",
              "</div>\n",
              "      <button class=\"colab-df-convert\" onclick=\"convertToInteractive('df-9fb969a8-4690-4bd8-8879-3168665ddf45')\"\n",
              "              title=\"Convert this dataframe to an interactive table.\"\n",
              "              style=\"display:none;\">\n",
              "        \n",
              "  <svg xmlns=\"http://www.w3.org/2000/svg\" height=\"24px\"viewBox=\"0 0 24 24\"\n",
              "       width=\"24px\">\n",
              "    <path d=\"M0 0h24v24H0V0z\" fill=\"none\"/>\n",
              "    <path d=\"M18.56 5.44l.94 2.06.94-2.06 2.06-.94-2.06-.94-.94-2.06-.94 2.06-2.06.94zm-11 1L8.5 8.5l.94-2.06 2.06-.94-2.06-.94L8.5 2.5l-.94 2.06-2.06.94zm10 10l.94 2.06.94-2.06 2.06-.94-2.06-.94-.94-2.06-.94 2.06-2.06.94z\"/><path d=\"M17.41 7.96l-1.37-1.37c-.4-.4-.92-.59-1.43-.59-.52 0-1.04.2-1.43.59L10.3 9.45l-7.72 7.72c-.78.78-.78 2.05 0 2.83L4 21.41c.39.39.9.59 1.41.59.51 0 1.02-.2 1.41-.59l7.78-7.78 2.81-2.81c.8-.78.8-2.07 0-2.86zM5.41 20L4 18.59l7.72-7.72 1.47 1.35L5.41 20z\"/>\n",
              "  </svg>\n",
              "      </button>\n",
              "      \n",
              "  <style>\n",
              "    .colab-df-container {\n",
              "      display:flex;\n",
              "      flex-wrap:wrap;\n",
              "      gap: 12px;\n",
              "    }\n",
              "\n",
              "    .colab-df-convert {\n",
              "      background-color: #E8F0FE;\n",
              "      border: none;\n",
              "      border-radius: 50%;\n",
              "      cursor: pointer;\n",
              "      display: none;\n",
              "      fill: #1967D2;\n",
              "      height: 32px;\n",
              "      padding: 0 0 0 0;\n",
              "      width: 32px;\n",
              "    }\n",
              "\n",
              "    .colab-df-convert:hover {\n",
              "      background-color: #E2EBFA;\n",
              "      box-shadow: 0px 1px 2px rgba(60, 64, 67, 0.3), 0px 1px 3px 1px rgba(60, 64, 67, 0.15);\n",
              "      fill: #174EA6;\n",
              "    }\n",
              "\n",
              "    [theme=dark] .colab-df-convert {\n",
              "      background-color: #3B4455;\n",
              "      fill: #D2E3FC;\n",
              "    }\n",
              "\n",
              "    [theme=dark] .colab-df-convert:hover {\n",
              "      background-color: #434B5C;\n",
              "      box-shadow: 0px 1px 3px 1px rgba(0, 0, 0, 0.15);\n",
              "      filter: drop-shadow(0px 1px 2px rgba(0, 0, 0, 0.3));\n",
              "      fill: #FFFFFF;\n",
              "    }\n",
              "  </style>\n",
              "\n",
              "      <script>\n",
              "        const buttonEl =\n",
              "          document.querySelector('#df-9fb969a8-4690-4bd8-8879-3168665ddf45 button.colab-df-convert');\n",
              "        buttonEl.style.display =\n",
              "          google.colab.kernel.accessAllowed ? 'block' : 'none';\n",
              "\n",
              "        async function convertToInteractive(key) {\n",
              "          const element = document.querySelector('#df-9fb969a8-4690-4bd8-8879-3168665ddf45');\n",
              "          const dataTable =\n",
              "            await google.colab.kernel.invokeFunction('convertToInteractive',\n",
              "                                                     [key], {});\n",
              "          if (!dataTable) return;\n",
              "\n",
              "          const docLinkHtml = 'Like what you see? Visit the ' +\n",
              "            '<a target=\"_blank\" href=https://colab.research.google.com/notebooks/data_table.ipynb>data table notebook</a>'\n",
              "            + ' to learn more about interactive tables.';\n",
              "          element.innerHTML = '';\n",
              "          dataTable['output_type'] = 'display_data';\n",
              "          await google.colab.output.renderOutput(dataTable, element);\n",
              "          const docLink = document.createElement('div');\n",
              "          docLink.innerHTML = docLinkHtml;\n",
              "          element.appendChild(docLink);\n",
              "        }\n",
              "      </script>\n",
              "    </div>\n",
              "  </div>\n",
              "  "
            ]
          },
          "metadata": {},
          "execution_count": 55
        }
      ]
    },
    {
      "cell_type": "code",
      "source": [
        "#Display values of Outcome attribute.\n",
        "\n",
        "data['Outcome'].value_counts(normalize=True)"
      ],
      "metadata": {
        "id": "u4Ie5HI44c_9",
        "colab": {
          "base_uri": "https://localhost:8080/"
        },
        "outputId": "3700858a-c984-4fe9-8b50-22b8ebbb0197"
      },
      "execution_count": 56,
      "outputs": [
        {
          "output_type": "execute_result",
          "data": {
            "text/plain": [
              "0    0.668908\n",
              "1    0.331092\n",
              "Name: Outcome, dtype: float64"
            ]
          },
          "metadata": {},
          "execution_count": 56
        }
      ]
    },
    {
      "cell_type": "code",
      "source": [
        "#Vizualize the outcome in graph.\n",
        "\n",
        "sns.countplot(x='Outcome',data=data)"
      ],
      "metadata": {
        "id": "00xI9pUz4gG3",
        "colab": {
          "base_uri": "https://localhost:8080/",
          "height": 296
        },
        "outputId": "dc2f5d0c-f74b-4c3e-9c1c-14a19fce2c94"
      },
      "execution_count": 82,
      "outputs": [
        {
          "output_type": "execute_result",
          "data": {
            "text/plain": [
              "<matplotlib.axes._subplots.AxesSubplot at 0x7f77ceb13610>"
            ]
          },
          "metadata": {},
          "execution_count": 82
        },
        {
          "output_type": "display_data",
          "data": {
            "text/plain": [
              "<Figure size 432x288 with 1 Axes>"
            ],
            "image/png": "[encoded data removed]"
          },
          "metadata": {
            "needs_background": "light"
          }
        }
      ]
    },
    {
      "cell_type": "code",
      "source": [
        "#Plotting scatterplot for pairwise relationships of dataset attributes\n",
        "\n",
        "sns.pairplot(data)"
      ],
      "metadata": {
        "id": "TdwVoP_U5vSC",
        "colab": {
          "base_uri": "https://localhost:8080/"
        },
        "outputId": "a592ab72-376e-4546-d0f9-6d394659f3c9"
      },
      "execution_count": null,
      "outputs": [
        {
          "output_type": "execute_result",
          "data": {
            "text/plain": [
              "<seaborn.axisgrid.PairGrid at 0x7f77cc791ed0>"
            ]
          },
          "metadata": {},
          "execution_count": 84
        }
      ]
    },
    {
      "cell_type": "code",
      "source": [
        "#Plotting graphs for Pregnancies attribute.\n",
        "\n",
        "plt.figure(2)\n",
        "plt.subplot(121)\n",
        "sns.distplot(data['Pregnancies'])\n",
        "plt.subplot(122)\n",
        "data['Pregnancies'].plot.box(figsize=(15,5))"
      ],
      "metadata": {
        "id": "-tKz0Kei5V41",
        "colab": {
          "base_uri": "https://localhost:8080/",
          "height": 406
        },
        "outputId": "85c2b097-a097-4612-ce3f-5f1e01834725"
      },
      "execution_count": 59,
      "outputs": [
        {
          "output_type": "stream",
          "name": "stderr",
          "text": [
            "/usr/local/lib/python3.7/dist-packages/seaborn/distributions.py:2619: FutureWarning: `distplot` is a deprecated function and will be removed in a future version. Please adapt your code to use either `displot` (a figure-level function with similar flexibility) or `histplot` (an axes-level function for histograms).\n",
            "  warnings.warn(msg, FutureWarning)\n"
          ]
        },
        {
          "output_type": "execute_result",
          "data": {
            "text/plain": [
              "<matplotlib.axes._subplots.AxesSubplot at 0x7f77d1af96d0>"
            ]
          },
          "metadata": {},
          "execution_count": 59
        },
        {
          "output_type": "display_data",
          "data": {
            "text/plain": [
              "<Figure size 1080x360 with 2 Axes>"
            ],
            "image/png": "[encoded data removed]"
          },
          "metadata": {
            "needs_background": "light"
          }
        }
      ]
    },
    {
      "cell_type": "code",
      "source": [
        "#Generate Correlation for each variable.\n",
        "\n",
        "data.corr()"
      ],
      "metadata": {
        "id": "vNftB2oG6N5o",
        "colab": {
          "base_uri": "https://localhost:8080/",
          "height": 458
        },
        "outputId": "e4dd8b5f-0a8d-4501-ebcb-9df21be34bc1"
      },
      "execution_count": 60,
      "outputs": [
        {
          "output_type": "execute_result",
          "data": {
            "text/plain": [
              "                          Pregnancies   Glucose  BloodPressure  SkinThickness  \\\n",
              "Pregnancies                  1.000000  0.168904       0.166317      -0.018527   \n",
              "Glucose                      0.168904  1.000000       0.136657       0.070976   \n",
              "BloodPressure                0.166317  0.136657       1.000000       0.185558   \n",
              "SkinThickness               -0.018527  0.070976       0.185558       1.000000   \n",
              "Insulin                     -0.055640  0.317112       0.133094       0.452743   \n",
              "BMI                          0.038619  0.238026       0.333726       0.401359   \n",
              "DiabetesPedigreeFunction    -0.067098 -0.036750       0.050415       0.141533   \n",
              "Age                          0.545929  0.320840       0.274842      -0.077053   \n",
              "Outcome                      0.222506  0.540609       0.081906       0.038901   \n",
              "Id                          -0.024646  0.061636       0.079934       0.065826   \n",
              "split                        0.013474 -0.037268       0.029064      -0.028570   \n",
              "\n",
              "                           Insulin       BMI  DiabetesPedigreeFunction  \\\n",
              "Pregnancies              -0.055640  0.038619                 -0.067098   \n",
              "Glucose                   0.317112  0.238026                 -0.036750   \n",
              "BloodPressure             0.133094  0.333726                  0.050415   \n",
              "SkinThickness             0.452743  0.401359                  0.141533   \n",
              "Insulin                   1.000000  0.238843                  0.163237   \n",
              "BMI                       0.238843  1.000000                  0.071209   \n",
              "DiabetesPedigreeFunction  0.163237  0.071209                  1.000000   \n",
              "Age                      -0.029690  0.092672                 -0.015288   \n",
              "Outcome                   0.106843  0.234821                  0.082799   \n",
              "Id                       -0.004782  0.083515                  0.014855   \n",
              "split                    -0.056670  0.018798                 -0.006724   \n",
              "\n",
              "                               Age   Outcome        Id     split  \n",
              "Pregnancies               0.545929  0.222506 -0.024646  0.013474  \n",
              "Glucose                   0.320840  0.540609  0.061636 -0.037268  \n",
              "BloodPressure             0.274842  0.081906  0.079934  0.029064  \n",
              "SkinThickness            -0.077053  0.038901  0.065826 -0.028570  \n",
              "Insulin                  -0.029690  0.106843 -0.004782 -0.056670  \n",
              "BMI                       0.092672  0.234821  0.083515  0.018798  \n",
              "DiabetesPedigreeFunction -0.015288  0.082799  0.014855 -0.006724  \n",
              "Age                       1.000000  0.332440 -0.008853 -0.091033  \n",
              "Outcome                   0.332440  1.000000  0.028245  0.053123  \n",
              "Id                       -0.008853  0.028245  1.000000  0.013979  \n",
              "split                    -0.091033  0.053123  0.013979  1.000000  "
            ],
            "text/html": [
              "\n",
              "  <div id=\"df-fb22bd55-5302-4860-ab76-53c4263c8746\">\n",
              "    <div class=\"colab-df-container\">\n",
              "      <div>\n",
              "<style scoped>\n",
              "    .dataframe tbody tr th:only-of-type {\n",
              "        vertical-align: middle;\n",
              "    }\n",
              "\n",
              "    .dataframe tbody tr th {\n",
              "        vertical-align: top;\n",
              "    }\n",
              "\n",
              "    .dataframe thead th {\n",
              "        text-align: right;\n",
              "    }\n",
              "</style>\n",
              "<table border=\"1\" class=\"dataframe\">\n",
              "  <thead>\n",
              "    <tr style=\"text-align: right;\">\n",
              "      <th></th>\n",
              "      <th>Pregnancies</th>\n",
              "      <th>Glucose</th>\n",
              "      <th>BloodPressure</th>\n",
              "      <th>SkinThickness</th>\n",
              "      <th>Insulin</th>\n",
              "      <th>BMI</th>\n",
              "      <th>DiabetesPedigreeFunction</th>\n",
              "      <th>Age</th>\n",
              "      <th>Outcome</th>\n",
              "      <th>Id</th>\n",
              "      <th>split</th>\n",
              "    </tr>\n",
              "  </thead>\n",
              "  <tbody>\n",
              "    <tr>\n",
              "      <th>Pregnancies</th>\n",
              "      <td>1.000000</td>\n",
              "      <td>0.168904</td>\n",
              "      <td>0.166317</td>\n",
              "      <td>-0.018527</td>\n",
              "      <td>-0.055640</td>\n",
              "      <td>0.038619</td>\n",
              "      <td>-0.067098</td>\n",
              "      <td>0.545929</td>\n",
              "      <td>0.222506</td>\n",
              "      <td>-0.024646</td>\n",
              "      <td>0.013474</td>\n",
              "    </tr>\n",
              "    <tr>\n",
              "      <th>Glucose</th>\n",
              "      <td>0.168904</td>\n",
              "      <td>1.000000</td>\n",
              "      <td>0.136657</td>\n",
              "      <td>0.070976</td>\n",
              "      <td>0.317112</td>\n",
              "      <td>0.238026</td>\n",
              "      <td>-0.036750</td>\n",
              "      <td>0.320840</td>\n",
              "      <td>0.540609</td>\n",
              "      <td>0.061636</td>\n",
              "      <td>-0.037268</td>\n",
              "    </tr>\n",
              "    <tr>\n",
              "      <th>BloodPressure</th>\n",
              "      <td>0.166317</td>\n",
              "      <td>0.136657</td>\n",
              "      <td>1.000000</td>\n",
              "      <td>0.185558</td>\n",
              "      <td>0.133094</td>\n",
              "      <td>0.333726</td>\n",
              "      <td>0.050415</td>\n",
              "      <td>0.274842</td>\n",
              "      <td>0.081906</td>\n",
              "      <td>0.079934</td>\n",
              "      <td>0.029064</td>\n",
              "    </tr>\n",
              "    <tr>\n",
              "      <th>SkinThickness</th>\n",
              "      <td>-0.018527</td>\n",
              "      <td>0.070976</td>\n",
              "      <td>0.185558</td>\n",
              "      <td>1.000000</td>\n",
              "      <td>0.452743</td>\n",
              "      <td>0.401359</td>\n",
              "      <td>0.141533</td>\n",
              "      <td>-0.077053</td>\n",
              "      <td>0.038901</td>\n",
              "      <td>0.065826</td>\n",
              "      <td>-0.028570</td>\n",
              "    </tr>\n",
              "    <tr>\n",
              "      <th>Insulin</th>\n",
              "      <td>-0.055640</td>\n",
              "      <td>0.317112</td>\n",
              "      <td>0.133094</td>\n",
              "      <td>0.452743</td>\n",
              "      <td>1.000000</td>\n",
              "      <td>0.238843</td>\n",
              "      <td>0.163237</td>\n",
              "      <td>-0.029690</td>\n",
              "      <td>0.106843</td>\n",
              "      <td>-0.004782</td>\n",
              "      <td>-0.056670</td>\n",
              "    </tr>\n",
              "    <tr>\n",
              "      <th>BMI</th>\n",
              "      <td>0.038619</td>\n",
              "      <td>0.238026</td>\n",
              "      <td>0.333726</td>\n",
              "      <td>0.401359</td>\n",
              "      <td>0.238843</td>\n",
              "      <td>1.000000</td>\n",
              "      <td>0.071209</td>\n",
              "      <td>0.092672</td>\n",
              "      <td>0.234821</td>\n",
              "      <td>0.083515</td>\n",
              "      <td>0.018798</td>\n",
              "    </tr>\n",
              "    <tr>\n",
              "      <th>DiabetesPedigreeFunction</th>\n",
              "      <td>-0.067098</td>\n",
              "      <td>-0.036750</td>\n",
              "      <td>0.050415</td>\n",
              "      <td>0.141533</td>\n",
              "      <td>0.163237</td>\n",
              "      <td>0.071209</td>\n",
              "      <td>1.000000</td>\n",
              "      <td>-0.015288</td>\n",
              "      <td>0.082799</td>\n",
              "      <td>0.014855</td>\n",
              "      <td>-0.006724</td>\n",
              "    </tr>\n",
              "    <tr>\n",
              "      <th>Age</th>\n",
              "      <td>0.545929</td>\n",
              "      <td>0.320840</td>\n",
              "      <td>0.274842</td>\n",
              "      <td>-0.077053</td>\n",
              "      <td>-0.029690</td>\n",
              "      <td>0.092672</td>\n",
              "      <td>-0.015288</td>\n",
              "      <td>1.000000</td>\n",
              "      <td>0.332440</td>\n",
              "      <td>-0.008853</td>\n",
              "      <td>-0.091033</td>\n",
              "    </tr>\n",
              "    <tr>\n",
              "      <th>Outcome</th>\n",
              "      <td>0.222506</td>\n",
              "      <td>0.540609</td>\n",
              "      <td>0.081906</td>\n",
              "      <td>0.038901</td>\n",
              "      <td>0.106843</td>\n",
              "      <td>0.234821</td>\n",
              "      <td>0.082799</td>\n",
              "      <td>0.332440</td>\n",
              "      <td>1.000000</td>\n",
              "      <td>0.028245</td>\n",
              "      <td>0.053123</td>\n",
              "    </tr>\n",
              "    <tr>\n",
              "      <th>Id</th>\n",
              "      <td>-0.024646</td>\n",
              "      <td>0.061636</td>\n",
              "      <td>0.079934</td>\n",
              "      <td>0.065826</td>\n",
              "      <td>-0.004782</td>\n",
              "      <td>0.083515</td>\n",
              "      <td>0.014855</td>\n",
              "      <td>-0.008853</td>\n",
              "      <td>0.028245</td>\n",
              "      <td>1.000000</td>\n",
              "      <td>0.013979</td>\n",
              "    </tr>\n",
              "    <tr>\n",
              "      <th>split</th>\n",
              "      <td>0.013474</td>\n",
              "      <td>-0.037268</td>\n",
              "      <td>0.029064</td>\n",
              "      <td>-0.028570</td>\n",
              "      <td>-0.056670</td>\n",
              "      <td>0.018798</td>\n",
              "      <td>-0.006724</td>\n",
              "      <td>-0.091033</td>\n",
              "      <td>0.053123</td>\n",
              "      <td>0.013979</td>\n",
              "      <td>1.000000</td>\n",
              "    </tr>\n",
              "  </tbody>\n",
              "</table>\n",
              "</div>\n",
              "      <button class=\"colab-df-convert\" onclick=\"convertToInteractive('df-fb22bd55-5302-4860-ab76-53c4263c8746')\"\n",
              "              title=\"Convert this dataframe to an interactive table.\"\n",
              "              style=\"display:none;\">\n",
              "        \n",
              "  <svg xmlns=\"http://www.w3.org/2000/svg\" height=\"24px\"viewBox=\"0 0 24 24\"\n",
              "       width=\"24px\">\n",
              "    <path d=\"M0 0h24v24H0V0z\" fill=\"none\"/>\n",
              "    <path d=\"M18.56 5.44l.94 2.06.94-2.06 2.06-.94-2.06-.94-.94-2.06-.94 2.06-2.06.94zm-11 1L8.5 8.5l.94-2.06 2.06-.94-2.06-.94L8.5 2.5l-.94 2.06-2.06.94zm10 10l.94 2.06.94-2.06 2.06-.94-2.06-.94-.94-2.06-.94 2.06-2.06.94z\"/><path d=\"M17.41 7.96l-1.37-1.37c-.4-.4-.92-.59-1.43-.59-.52 0-1.04.2-1.43.59L10.3 9.45l-7.72 7.72c-.78.78-.78 2.05 0 2.83L4 21.41c.39.39.9.59 1.41.59.51 0 1.02-.2 1.41-.59l7.78-7.78 2.81-2.81c.8-.78.8-2.07 0-2.86zM5.41 20L4 18.59l7.72-7.72 1.47 1.35L5.41 20z\"/>\n",
              "  </svg>\n",
              "      </button>\n",
              "      \n",
              "  <style>\n",
              "    .colab-df-container {\n",
              "      display:flex;\n",
              "      flex-wrap:wrap;\n",
              "      gap: 12px;\n",
              "    }\n",
              "\n",
              "    .colab-df-convert {\n",
              "      background-color: #E8F0FE;\n",
              "      border: none;\n",
              "      border-radius: 50%;\n",
              "      cursor: pointer;\n",
              "      display: none;\n",
              "      fill: #1967D2;\n",
              "      height: 32px;\n",
              "      padding: 0 0 0 0;\n",
              "      width: 32px;\n",
              "    }\n",
              "\n",
              "    .colab-df-convert:hover {\n",
              "      background-color: #E2EBFA;\n",
              "      box-shadow: 0px 1px 2px rgba(60, 64, 67, 0.3), 0px 1px 3px 1px rgba(60, 64, 67, 0.15);\n",
              "      fill: #174EA6;\n",
              "    }\n",
              "\n",
              "    [theme=dark] .colab-df-convert {\n",
              "      background-color: #3B4455;\n",
              "      fill: #D2E3FC;\n",
              "    }\n",
              "\n",
              "    [theme=dark] .colab-df-convert:hover {\n",
              "      background-color: #434B5C;\n",
              "      box-shadow: 0px 1px 3px 1px rgba(0, 0, 0, 0.15);\n",
              "      filter: drop-shadow(0px 1px 2px rgba(0, 0, 0, 0.3));\n",
              "      fill: #FFFFFF;\n",
              "    }\n",
              "  </style>\n",
              "\n",
              "      <script>\n",
              "        const buttonEl =\n",
              "          document.querySelector('#df-fb22bd55-5302-4860-ab76-53c4263c8746 button.colab-df-convert');\n",
              "        buttonEl.style.display =\n",
              "          google.colab.kernel.accessAllowed ? 'block' : 'none';\n",
              "\n",
              "        async function convertToInteractive(key) {\n",
              "          const element = document.querySelector('#df-fb22bd55-5302-4860-ab76-53c4263c8746');\n",
              "          const dataTable =\n",
              "            await google.colab.kernel.invokeFunction('convertToInteractive',\n",
              "                                                     [key], {});\n",
              "          if (!dataTable) return;\n",
              "\n",
              "          const docLinkHtml = 'Like what you see? Visit the ' +\n",
              "            '<a target=\"_blank\" href=https://colab.research.google.com/notebooks/data_table.ipynb>data table notebook</a>'\n",
              "            + ' to learn more about interactive tables.';\n",
              "          element.innerHTML = '';\n",
              "          dataTable['output_type'] = 'display_data';\n",
              "          await google.colab.output.renderOutput(dataTable, element);\n",
              "          const docLink = document.createElement('div');\n",
              "          docLink.innerHTML = docLinkHtml;\n",
              "          element.appendChild(docLink);\n",
              "        }\n",
              "      </script>\n",
              "    </div>\n",
              "  </div>\n",
              "  "
            ]
          },
          "metadata": {},
          "execution_count": 60
        }
      ]
    },
    {
      "cell_type": "code",
      "source": [
        "#Visualize the correlation.\n",
        "\n",
        "corr_matrix = data.corr()\n",
        "sns.heatmap(corr_matrix, cmap=\"coolwarm\")"
      ],
      "metadata": {
        "id": "mGpLgAEQ6dbb",
        "colab": {
          "base_uri": "https://localhost:8080/",
          "height": 407
        },
        "outputId": "fbdcb012-62cf-4ca3-e572-fbb1378f5160"
      },
      "execution_count": 61,
      "outputs": [
        {
          "output_type": "execute_result",
          "data": {
            "text/plain": [
              "<matplotlib.axes._subplots.AxesSubplot at 0x7f77cf04e050>"
            ]
          },
          "metadata": {},
          "execution_count": 61
        },
        {
          "output_type": "display_data",
          "data": {
            "text/plain": [
              "<Figure size 432x288 with 2 Axes>"
            ],
            "image/png": "[encoded data removed]"
          },
          "metadata": {
            "needs_background": "light"
          }
        }
      ]
    },
    {
      "cell_type": "code",
      "source": [
        "#See how the traget variable is different for each column of diabetic and non-diabetic patients.\n",
        "\n",
        "ax = plt.subplots(figsize=(12,8))\n",
        "sns.heatmap(corr_matrix, cmap=\"coolwarm\")"
      ],
      "metadata": {
        "id": "hYGH6tHG6eVU",
        "colab": {
          "base_uri": "https://localhost:8080/",
          "height": 624
        },
        "outputId": "5589bb6e-523c-4f6f-da45-6eb79bc15600"
      },
      "execution_count": 62,
      "outputs": [
        {
          "output_type": "execute_result",
          "data": {
            "text/plain": [
              "<matplotlib.axes._subplots.AxesSubplot at 0x7f77cef99810>"
            ]
          },
          "metadata": {},
          "execution_count": 62
        },
        {
          "output_type": "display_data",
          "data": {
            "text/plain": [
              "<Figure size 864x576 with 2 Axes>"
            ],
            "image/png": "[encoded data removed]"
          },
          "metadata": {
            "needs_background": "light"
          }
        }
      ]
    },
    {
      "cell_type": "code",
      "source": [
        "#create x and y variable for machine learning\n",
        "\n",
        "data.groupby('Outcome').mean()\n",
        "\n",
        "X = data.drop(columns='Outcome',axis=1)\n",
        "Y = data['Outcome']"
      ],
      "metadata": {
        "id": "h3e0do0U6hsj"
      },
      "execution_count": 63,
      "outputs": []
    },
    {
      "cell_type": "code",
      "source": [
        "#split the data in train and test\n",
        "\n",
        "from sklearn.model_selection import train_test_split\n",
        "X_train, X_test, Y_train, Y_test = train_test_split(X,Y,test_size=.2,random_state=123)\n"
      ],
      "metadata": {
        "id": "j-d-FyEL6lrb"
      },
      "execution_count": 64,
      "outputs": []
    },
    {
      "cell_type": "code",
      "source": [
        "#Logistic Regression\n",
        "\n",
        "from sklearn.linear_model import LogisticRegression\n",
        "LR = LogisticRegression()\n",
        "\n",
        "from sklearn.model_selection import cross_val_score\n",
        "accuraccies = cross_val_score(estimator = LR, X= X_train, y=Y_train, cv=10)\n",
        "print(\"Average Accuracies: \",np.mean(accuraccies))\n",
        "print(\"Standart Deviation Accuracies: \",np.std(accuraccies))\n"
      ],
      "metadata": {
        "id": "eoUpPJjy6nnU",
        "colab": {
          "base_uri": "https://localhost:8080/"
        },
        "outputId": "2e56e586-3045-4527-8aba-533ce84571cc"
      },
      "execution_count": 65,
      "outputs": [
        {
          "output_type": "stream",
          "name": "stderr",
          "text": [
            "/usr/local/lib/python3.7/dist-packages/sklearn/linear_model/_logistic.py:818: ConvergenceWarning: lbfgs failed to converge (status=1):\n",
            "STOP: TOTAL NO. of ITERATIONS REACHED LIMIT.\n",
            "\n",
            "Increase the number of iterations (max_iter) or scale the data as shown in:\n",
            "    https://scikit-learn.org/stable/modules/preprocessing.html\n",
            "Please also refer to the documentation for alternative solver options:\n",
            "    https://scikit-learn.org/stable/modules/linear_model.html#logistic-regression\n",
            "  extra_warning_msg=_LOGISTIC_SOLVER_CONVERGENCE_MSG,\n",
            "/usr/local/lib/python3.7/dist-packages/sklearn/linear_model/_logistic.py:818: ConvergenceWarning: lbfgs failed to converge (status=1):\n",
            "STOP: TOTAL NO. of ITERATIONS REACHED LIMIT.\n",
            "\n",
            "Increase the number of iterations (max_iter) or scale the data as shown in:\n",
            "    https://scikit-learn.org/stable/modules/preprocessing.html\n",
            "Please also refer to the documentation for alternative solver options:\n",
            "    https://scikit-learn.org/stable/modules/linear_model.html#logistic-regression\n",
            "  extra_warning_msg=_LOGISTIC_SOLVER_CONVERGENCE_MSG,\n",
            "/usr/local/lib/python3.7/dist-packages/sklearn/linear_model/_logistic.py:818: ConvergenceWarning: lbfgs failed to converge (status=1):\n",
            "STOP: TOTAL NO. of ITERATIONS REACHED LIMIT.\n",
            "\n",
            "Increase the number of iterations (max_iter) or scale the data as shown in:\n",
            "    https://scikit-learn.org/stable/modules/preprocessing.html\n",
            "Please also refer to the documentation for alternative solver options:\n",
            "    https://scikit-learn.org/stable/modules/linear_model.html#logistic-regression\n",
            "  extra_warning_msg=_LOGISTIC_SOLVER_CONVERGENCE_MSG,\n",
            "/usr/local/lib/python3.7/dist-packages/sklearn/linear_model/_logistic.py:818: ConvergenceWarning: lbfgs failed to converge (status=1):\n",
            "STOP: TOTAL NO. of ITERATIONS REACHED LIMIT.\n",
            "\n",
            "Increase the number of iterations (max_iter) or scale the data as shown in:\n",
            "    https://scikit-learn.org/stable/modules/preprocessing.html\n",
            "Please also refer to the documentation for alternative solver options:\n",
            "    https://scikit-learn.org/stable/modules/linear_model.html#logistic-regression\n",
            "  extra_warning_msg=_LOGISTIC_SOLVER_CONVERGENCE_MSG,\n",
            "/usr/local/lib/python3.7/dist-packages/sklearn/linear_model/_logistic.py:818: ConvergenceWarning: lbfgs failed to converge (status=1):\n",
            "STOP: TOTAL NO. of ITERATIONS REACHED LIMIT.\n",
            "\n",
            "Increase the number of iterations (max_iter) or scale the data as shown in:\n",
            "    https://scikit-learn.org/stable/modules/preprocessing.html\n",
            "Please also refer to the documentation for alternative solver options:\n",
            "    https://scikit-learn.org/stable/modules/linear_model.html#logistic-regression\n",
            "  extra_warning_msg=_LOGISTIC_SOLVER_CONVERGENCE_MSG,\n",
            "/usr/local/lib/python3.7/dist-packages/sklearn/linear_model/_logistic.py:818: ConvergenceWarning: lbfgs failed to converge (status=1):\n",
            "STOP: TOTAL NO. of ITERATIONS REACHED LIMIT.\n",
            "\n",
            "Increase the number of iterations (max_iter) or scale the data as shown in:\n",
            "    https://scikit-learn.org/stable/modules/preprocessing.html\n",
            "Please also refer to the documentation for alternative solver options:\n",
            "    https://scikit-learn.org/stable/modules/linear_model.html#logistic-regression\n",
            "  extra_warning_msg=_LOGISTIC_SOLVER_CONVERGENCE_MSG,\n",
            "/usr/local/lib/python3.7/dist-packages/sklearn/linear_model/_logistic.py:818: ConvergenceWarning: lbfgs failed to converge (status=1):\n",
            "STOP: TOTAL NO. of ITERATIONS REACHED LIMIT.\n",
            "\n",
            "Increase the number of iterations (max_iter) or scale the data as shown in:\n",
            "    https://scikit-learn.org/stable/modules/preprocessing.html\n",
            "Please also refer to the documentation for alternative solver options:\n",
            "    https://scikit-learn.org/stable/modules/linear_model.html#logistic-regression\n",
            "  extra_warning_msg=_LOGISTIC_SOLVER_CONVERGENCE_MSG,\n"
          ]
        },
        {
          "output_type": "stream",
          "name": "stdout",
          "text": [
            "Average Accuracies:  0.6659131205673758\n",
            "Standart Deviation Accuracies:  0.049248049779122505\n"
          ]
        },
        {
          "output_type": "stream",
          "name": "stderr",
          "text": [
            "/usr/local/lib/python3.7/dist-packages/sklearn/linear_model/_logistic.py:818: ConvergenceWarning: lbfgs failed to converge (status=1):\n",
            "STOP: TOTAL NO. of ITERATIONS REACHED LIMIT.\n",
            "\n",
            "Increase the number of iterations (max_iter) or scale the data as shown in:\n",
            "    https://scikit-learn.org/stable/modules/preprocessing.html\n",
            "Please also refer to the documentation for alternative solver options:\n",
            "    https://scikit-learn.org/stable/modules/linear_model.html#logistic-regression\n",
            "  extra_warning_msg=_LOGISTIC_SOLVER_CONVERGENCE_MSG,\n",
            "/usr/local/lib/python3.7/dist-packages/sklearn/linear_model/_logistic.py:818: ConvergenceWarning: lbfgs failed to converge (status=1):\n",
            "STOP: TOTAL NO. of ITERATIONS REACHED LIMIT.\n",
            "\n",
            "Increase the number of iterations (max_iter) or scale the data as shown in:\n",
            "    https://scikit-learn.org/stable/modules/preprocessing.html\n",
            "Please also refer to the documentation for alternative solver options:\n",
            "    https://scikit-learn.org/stable/modules/linear_model.html#logistic-regression\n",
            "  extra_warning_msg=_LOGISTIC_SOLVER_CONVERGENCE_MSG,\n",
            "/usr/local/lib/python3.7/dist-packages/sklearn/linear_model/_logistic.py:818: ConvergenceWarning: lbfgs failed to converge (status=1):\n",
            "STOP: TOTAL NO. of ITERATIONS REACHED LIMIT.\n",
            "\n",
            "Increase the number of iterations (max_iter) or scale the data as shown in:\n",
            "    https://scikit-learn.org/stable/modules/preprocessing.html\n",
            "Please also refer to the documentation for alternative solver options:\n",
            "    https://scikit-learn.org/stable/modules/linear_model.html#logistic-regression\n",
            "  extra_warning_msg=_LOGISTIC_SOLVER_CONVERGENCE_MSG,\n"
          ]
        }
      ]
    },
    {
      "cell_type": "code",
      "source": [
        "#Predicting accuracy of the algorithm based on testing data.\n",
        "\n",
        "LR.fit(X_train,Y_train)\n",
        "print(\"Test Accuracy {}\".format(LR.score(X_test,Y_test))) \n",
        "LRscore = LR.score(X_test,Y_test)\n"
      ],
      "metadata": {
        "colab": {
          "base_uri": "https://localhost:8080/"
        },
        "id": "4PJZvxl9LUHg",
        "outputId": "b32be203-ff8c-4703-f524-ea244b822638"
      },
      "execution_count": 66,
      "outputs": [
        {
          "output_type": "stream",
          "name": "stdout",
          "text": [
            "Test Accuracy 0.773109243697479\n"
          ]
        },
        {
          "output_type": "stream",
          "name": "stderr",
          "text": [
            "/usr/local/lib/python3.7/dist-packages/sklearn/linear_model/_logistic.py:818: ConvergenceWarning: lbfgs failed to converge (status=1):\n",
            "STOP: TOTAL NO. of ITERATIONS REACHED LIMIT.\n",
            "\n",
            "Increase the number of iterations (max_iter) or scale the data as shown in:\n",
            "    https://scikit-learn.org/stable/modules/preprocessing.html\n",
            "Please also refer to the documentation for alternative solver options:\n",
            "    https://scikit-learn.org/stable/modules/linear_model.html#logistic-regression\n",
            "  extra_warning_msg=_LOGISTIC_SOLVER_CONVERGENCE_MSG,\n"
          ]
        }
      ]
    },
    {
      "cell_type": "code",
      "source": [
        "#Finding confusion matrix for Logistic Regression.\n",
        "\n",
        "from sklearn.metrics import classification_report, confusion_matrix\n",
        "print(confusion_matrix(Y_test, logreg_predict))\n",
        "\n",
        "yprediciton1= LR.predict(X_test)\n",
        "ytrue = Y_test\n",
        "from sklearn.metrics import confusion_matrix\n",
        "CM = confusion_matrix(ytrue,yprediciton1)\n",
        "import seaborn as sns\n",
        "import matplotlib.pyplot as plt\n",
        "f, ax = plt.subplots(figsize=(5,5))\n",
        "sns.heatmap(CM,annot = True, linewidths=0.5,linecolor=\"red\",fmt=\".0f\",ax=ax)\n",
        "plt.xlabel(\"Prediction(Ypred)\")\n",
        "plt.ylabel(\"Ytrue\")\n",
        "plt.show()\n"
      ],
      "metadata": {
        "colab": {
          "base_uri": "https://localhost:8080/",
          "height": 369
        },
        "id": "kCSH3hPq8pTY",
        "outputId": "fbca056e-47be-4f04-944b-f2e5415ea7ce"
      },
      "execution_count": 67,
      "outputs": [
        {
          "output_type": "stream",
          "name": "stdout",
          "text": [
            "[[74  9]\n",
            " [18 18]]\n"
          ]
        },
        {
          "output_type": "display_data",
          "data": {
            "text/plain": [
              "<Figure size 360x360 with 2 Axes>"
            ],
            "image/png": "[encoded data removed]"
          },
          "metadata": {
            "needs_background": "light"
          }
        }
      ]
    },
    {
      "cell_type": "code",
      "source": [
        "#SVM\n",
        "\n",
        "from sklearn.svm import SVC\n",
        "SVM = SVC(random_state=42)\n",
        "\n",
        "from sklearn.model_selection import cross_val_score\n",
        "accuraccies = cross_val_score(estimator = SVM, X= X_train, y=Y_train, cv=5)\n",
        "print(\"Average Accuracies: \",np.mean(accuraccies))\n",
        "print(\"Standart Deviation Accuracies: \",np.std(accuraccies))\n"
      ],
      "metadata": {
        "colab": {
          "base_uri": "https://localhost:8080/"
        },
        "id": "zyjjFhQg9G6p",
        "outputId": "07ce35ec-b80c-4309-d728-eabf41bfa429"
      },
      "execution_count": 68,
      "outputs": [
        {
          "output_type": "stream",
          "name": "stdout",
          "text": [
            "Average Accuracies:  0.6617763157894736\n",
            "Standart Deviation Accuracies:  0.0027631578947368233\n"
          ]
        }
      ]
    },
    {
      "cell_type": "code",
      "source": [
        "#SVM Accuracy\n",
        "\n",
        "SVM.fit(X_train,Y_train)\n",
        "print (\"SVM Accuracy:\", SVM.score(X_test,Y_test))\n",
        "\n",
        "SVMscore = SVM.score(X_test,Y_test)"
      ],
      "metadata": {
        "colab": {
          "base_uri": "https://localhost:8080/"
        },
        "id": "9_Mxlt1jDCgv",
        "outputId": "eddb412f-9dbd-4b68-8cfa-e61266e1f59b"
      },
      "execution_count": 69,
      "outputs": [
        {
          "output_type": "stream",
          "name": "stdout",
          "text": [
            "SVM Accuracy: 0.6974789915966386\n"
          ]
        }
      ]
    },
    {
      "cell_type": "code",
      "source": [
        "#Confusion Matrix for SVM\n",
        "yprediciton3= SVM.predict(X_test)\n",
        "ytrue = Y_test\n",
        "\n",
        "from sklearn.metrics import confusion_matrix\n",
        "CM = confusion_matrix(ytrue,yprediciton3)\n",
        "import seaborn as sns\n",
        "import matplotlib.pyplot as plt\n",
        "\n",
        "f, ax = plt.subplots(figsize=(5,5))\n",
        "sns.heatmap(CM,annot = True, linewidths=0.5,linecolor=\"red\",fmt=\".0f\",ax=ax)\n",
        "plt.xlabel(\"Prediction(Ypred)\")\n",
        "plt.ylabel(\"Ytrue\")\n",
        "plt.show()\n"
      ],
      "metadata": {
        "colab": {
          "base_uri": "https://localhost:8080/",
          "height": 334
        },
        "id": "5ycZnsCRDP9U",
        "outputId": "75341a4e-fb77-4345-f12b-b9a7cb6a9330"
      },
      "execution_count": 70,
      "outputs": [
        {
          "output_type": "display_data",
          "data": {
            "text/plain": [
              "<Figure size 360x360 with 2 Axes>"
            ],
            "image/png": "[encoded data removed]"
          },
          "metadata": {
            "needs_background": "light"
          }
        }
      ]
    },
    {
      "cell_type": "code",
      "source": [
        "#Decision Tree\n",
        "\n",
        "from sklearn.tree import DecisionTreeClassifier\n",
        "DTC = DecisionTreeClassifier()\n",
        "from sklearn.model_selection import cross_val_score\n",
        "accuraccies = cross_val_score(estimator = DTC, X = X_train, y = Y_train, cv=55)\n",
        "print(\"Average Accuracies: \",np.mean(accuraccies))\n",
        "print(\"Standart Deviation Accuracies: \",np.std(accuraccies))\n"
      ],
      "metadata": {
        "colab": {
          "base_uri": "https://localhost:8080/"
        },
        "id": "vSNqAKsh9xNC",
        "outputId": "9d2ec0c7-2685-41c6-b667-5e1fdd9b23b0"
      },
      "execution_count": 71,
      "outputs": [
        {
          "output_type": "stream",
          "name": "stdout",
          "text": [
            "Average Accuracies:  0.7858585858585858\n",
            "Standart Deviation Accuracies:  0.12971443288455362\n"
          ]
        }
      ]
    },
    {
      "cell_type": "code",
      "source": [
        "#Decision Tree Accuracy\n",
        "\n",
        "DTC = DecisionTreeClassifier()\n",
        "DTC.fit(X_train,Y_train)\n",
        "print(\"Decision Tree Score: \",DTC.score(X_test,Y_test))"
      ],
      "metadata": {
        "colab": {
          "base_uri": "https://localhost:8080/"
        },
        "id": "4utnZOjHAShG",
        "outputId": "82243cd8-ee65-4443-a0d3-6b83563a89bb"
      },
      "execution_count": 72,
      "outputs": [
        {
          "output_type": "stream",
          "name": "stdout",
          "text": [
            "Decision Tree Score:  0.7983193277310925\n"
          ]
        }
      ]
    },
    {
      "cell_type": "code",
      "source": [
        "#Confusion Matrix for Decision Tree\n",
        "\n",
        "yprediciton5= DTC.predict(X_test)\n",
        "ytrue = Y_test\n",
        "from sklearn.metrics import confusion_matrix\n",
        "CM = confusion_matrix(Y_test,yprediciton5 )\n",
        "CM"
      ],
      "metadata": {
        "colab": {
          "base_uri": "https://localhost:8080/"
        },
        "id": "Emjli9ITAw94",
        "outputId": "23e55288-9efe-4627-ddcb-41a90cde7f0b"
      },
      "execution_count": 73,
      "outputs": [
        {
          "output_type": "execute_result",
          "data": {
            "text/plain": [
              "array([[72, 11],\n",
              "       [13, 23]])"
            ]
          },
          "metadata": {},
          "execution_count": 73
        }
      ]
    },
    {
      "cell_type": "code",
      "source": [
        "#Plotting Confusion Matrix for DT\n",
        "\n",
        "import seaborn as sns\n",
        "import matplotlib.pyplot as plt\n",
        "f, ax = plt.subplots(figsize=(5,5))\n",
        "sns.heatmap(CM,annot = True, linewidths=0.5,linecolor=\"red\",fmt=\".0f\",ax=ax)\n",
        "plt.xlabel(\"Prediction(Ypred)\")\n",
        "plt.ylabel(\"Ytrue\")\n",
        "plt.show()"
      ],
      "metadata": {
        "colab": {
          "base_uri": "https://localhost:8080/",
          "height": 334
        },
        "id": "ZJeda3gqBSiV",
        "outputId": "d6956d22-c416-40ad-8fd4-45bc3be2978f"
      },
      "execution_count": 74,
      "outputs": [
        {
          "output_type": "display_data",
          "data": {
            "text/plain": [
              "<Figure size 360x360 with 2 Axes>"
            ],
            "image/png": "[encoded data removed]"
          },
          "metadata": {
            "needs_background": "light"
          }
        }
      ]
    },
    {
      "cell_type": "code",
      "source": [
        "#Random Forest\n",
        "\n",
        "from sklearn.ensemble import RandomForestClassifier\n",
        "RFC= RandomForestClassifier(n_estimators = 82, random_state=42)\n",
        "from sklearn.model_selection import cross_val_score\n",
        "accuraccies = cross_val_score(estimator = RFC, X= X_train, y=Y_train, cv=10)\n",
        "print(\"Average Accuracies: \",np.mean(accuraccies))\n",
        "print(\"Standart Deviation Accuracies: \",np.std(accuraccies))"
      ],
      "metadata": {
        "colab": {
          "base_uri": "https://localhost:8080/"
        },
        "id": "M7-pQILcBoVS",
        "outputId": "a8d85367-5dbc-4261-ee92-4e138c4afad2"
      },
      "execution_count": 75,
      "outputs": [
        {
          "output_type": "stream",
          "name": "stdout",
          "text": [
            "Average Accuracies:  0.827659574468085\n",
            "Standart Deviation Accuracies:  0.03989548852978151\n"
          ]
        }
      ]
    },
    {
      "cell_type": "code",
      "source": [
        "#Random Forest Accuracy\n",
        "\n",
        "RFC.fit(X_train,Y_train)\n",
        "print(\"Random Forest Score: \",RFC.score(X_test,Y_test))\n",
        "RFCscore=RFC.score(X_test,Y_test)"
      ],
      "metadata": {
        "colab": {
          "base_uri": "https://localhost:8080/"
        },
        "id": "Qwvx6I0SBt2y",
        "outputId": "5358a003-8395-484c-d04f-afc7b317ebba"
      },
      "execution_count": 76,
      "outputs": [
        {
          "output_type": "stream",
          "name": "stdout",
          "text": [
            "Random Forest Score:  0.8403361344537815\n"
          ]
        }
      ]
    },
    {
      "cell_type": "code",
      "source": [
        "#Confusion Matrix for Random Forest\n",
        "\n",
        "yprediciton6= RFC.predict(X_test)\n",
        "ytrue = Y_test\n",
        "\n",
        "from sklearn.metrics import confusion_matrix\n",
        "CM = confusion_matrix(ytrue,yprediciton6)\n",
        "import seaborn as sns\n",
        "import matplotlib.pyplot as plt\n",
        "\n",
        "f, ax = plt.subplots(figsize=(5,5))\n",
        "sns.heatmap(CM,annot = True, linewidths=0.5,linecolor=\"red\",fmt=\".0f\",ax=ax)\n",
        "plt.xlabel(\"Prediction(Ypred)\")\n",
        "plt.ylabel(\"Ytrue\")\n",
        "plt.show()\n"
      ],
      "metadata": {
        "colab": {
          "base_uri": "https://localhost:8080/",
          "height": 334
        },
        "id": "IVf2nfyICMsB",
        "outputId": "c88625ee-2fc9-4da0-c567-e5d98d34e111"
      },
      "execution_count": 77,
      "outputs": [
        {
          "output_type": "display_data",
          "data": {
            "text/plain": [
              "<Figure size 360x360 with 2 Axes>"
            ],
            "image/png": "[encoded data removed]"
          },
          "metadata": {
            "needs_background": "light"
          }
        }
      ]
    },
    {
      "cell_type": "code",
      "source": [
        "#Naive Bayes\n",
        "\n",
        "from sklearn.naive_bayes import GaussianNB\n",
        "NB = GaussianNB()\n",
        "\n",
        "from sklearn.model_selection import cross_val_score\n",
        "accuraccies = cross_val_score(estimator = NB, X= X_train, y=Y_train, cv=35)\n",
        "print(\"Average Accuracies: \",np.mean(accuraccies))\n",
        "print(\"Standart Deviation Accuracies: \",np.std(accuraccies))"
      ],
      "metadata": {
        "colab": {
          "base_uri": "https://localhost:8080/"
        },
        "id": "MPocRnxGCdwc",
        "outputId": "85a768f4-8a42-49f2-e7ac-ad51855d3099"
      },
      "execution_count": 79,
      "outputs": [
        {
          "output_type": "stream",
          "name": "stdout",
          "text": [
            "Average Accuracies:  0.7620094191522764\n",
            "Standart Deviation Accuracies:  0.10319286865612133\n"
          ]
        }
      ]
    },
    {
      "cell_type": "code",
      "source": [
        "#Naive Bayes Accuracy\n",
        "\n",
        "NB.fit(X_train,Y_train)\n",
        "print(\"Accuracy of NB Score: \", NB.score(X_test,Y_test))\n",
        "NBscore= NB.score(X_test,Y_test)\n"
      ],
      "metadata": {
        "colab": {
          "base_uri": "https://localhost:8080/"
        },
        "id": "IeOyMUYnClPI",
        "outputId": "8b22ca21-57e9-4348-929c-69c7bf185a4e"
      },
      "execution_count": 80,
      "outputs": [
        {
          "output_type": "stream",
          "name": "stdout",
          "text": [
            "Accuracy of NB Score:  0.8403361344537815\n"
          ]
        }
      ]
    },
    {
      "cell_type": "code",
      "source": [
        "#Confusion Matrix\n",
        "\n",
        "yprediciton4= NB.predict(X_test)\n",
        "ytrue = Y_test\n",
        "from sklearn.metrics import confusion_matrix\n",
        "CM = confusion_matrix(ytrue,yprediciton4)\n",
        "import seaborn as sns\n",
        "import matplotlib.pyplot as plt\n",
        "f, ax = plt.subplots(figsize=(5,5))\n",
        "sns.heatmap(CM,annot = True, linewidths=0.5,linecolor=\"red\",fmt=\".0f\",ax=ax)\n",
        "plt.xlabel(\"Prediction(Ypred)\")\n",
        "plt.ylabel(\"Ytrue\")\n",
        "plt.show()\n"
      ],
      "metadata": {
        "colab": {
          "base_uri": "https://localhost:8080/",
          "height": 334
        },
        "id": "h4q3QGwfPCVw",
        "outputId": "9d7c1524-60d0-45f3-ceb9-f282af98e6d3"
      },
      "execution_count": 81,
      "outputs": [
        {
          "output_type": "display_data",
          "data": {
            "text/plain": [
              "<Figure size 360x360 with 2 Axes>"
            ],
            "image/png": "[encoded data removed]"
          },
          "metadata": {
            "needs_background": "light"
          }
        }
      ]
    },
    {
      "cell_type": "markdown",
      "source": [],
      "metadata": {
        "id": "f73l69-OSDVG"
      }
    },
    {
      "cell_type": "markdown",
      "source": [
        "**FROM THE ABOVE PREDICTIONS, WE CAN DEDUCT THE FOLLOWING ACCURACIES OF VARIOUS ALGORITHMS :\n",
        "\n",
        "LOGISTIC REGRESSION : 77.31 \n",
        "\n",
        "SVM : 69.67 \n",
        "\n",
        "DECISION TREE: 77.47 \n",
        "\n",
        "RANDOM FOREST : 84.03 \n",
        "\n",
        "NAIVES BAYES : 84.03 \n",
        "\n",
        "\n",
        "\n",
        "\n",
        "THE BEST MODEL FOR GIVING HIGH ACCURACY IS RANDOM FOREST.\n",
        "\n",
        "**"
      ],
      "metadata": {
        "id": "SN1w1XhVFbaz"
      }
    }
  ]
}